{
  "nbformat": 4,
  "nbformat_minor": 0,
  "metadata": {
    "colab": {
      "provenance": []
    },
    "kernelspec": {
      "name": "python3",
      "display_name": "Python 3"
    },
    "language_info": {
      "name": "python"
    }
  },
  "cells": [
    {
      "cell_type": "code",
      "execution_count": null,
      "metadata": {
        "colab": {
          "base_uri": "https://localhost:8080/"
        },
        "id": "SxJRE7G7mdH8",
        "outputId": "2f5110ed-7bab-46a3-c795-7540fbeb9a49"
      },
      "outputs": [
        {
          "output_type": "stream",
          "name": "stdout",
          "text": [
            "Collecting groq\n",
            "  Downloading groq-0.22.0-py3-none-any.whl.metadata (15 kB)\n",
            "Requirement already satisfied: anyio<5,>=3.5.0 in /usr/local/lib/python3.11/dist-packages (from groq) (4.9.0)\n",
            "Requirement already satisfied: distro<2,>=1.7.0 in /usr/local/lib/python3.11/dist-packages (from groq) (1.9.0)\n",
            "Requirement already satisfied: httpx<1,>=0.23.0 in /usr/local/lib/python3.11/dist-packages (from groq) (0.28.1)\n",
            "Requirement already satisfied: pydantic<3,>=1.9.0 in /usr/local/lib/python3.11/dist-packages (from groq) (2.11.3)\n",
            "Requirement already satisfied: sniffio in /usr/local/lib/python3.11/dist-packages (from groq) (1.3.1)\n",
            "Requirement already satisfied: typing-extensions<5,>=4.10 in /usr/local/lib/python3.11/dist-packages (from groq) (4.13.1)\n",
            "Requirement already satisfied: idna>=2.8 in /usr/local/lib/python3.11/dist-packages (from anyio<5,>=3.5.0->groq) (3.10)\n",
            "Requirement already satisfied: certifi in /usr/local/lib/python3.11/dist-packages (from httpx<1,>=0.23.0->groq) (2025.1.31)\n",
            "Requirement already satisfied: httpcore==1.* in /usr/local/lib/python3.11/dist-packages (from httpx<1,>=0.23.0->groq) (1.0.7)\n",
            "Requirement already satisfied: h11<0.15,>=0.13 in /usr/local/lib/python3.11/dist-packages (from httpcore==1.*->httpx<1,>=0.23.0->groq) (0.14.0)\n",
            "Requirement already satisfied: annotated-types>=0.6.0 in /usr/local/lib/python3.11/dist-packages (from pydantic<3,>=1.9.0->groq) (0.7.0)\n",
            "Requirement already satisfied: pydantic-core==2.33.1 in /usr/local/lib/python3.11/dist-packages (from pydantic<3,>=1.9.0->groq) (2.33.1)\n",
            "Requirement already satisfied: typing-inspection>=0.4.0 in /usr/local/lib/python3.11/dist-packages (from pydantic<3,>=1.9.0->groq) (0.4.0)\n",
            "Downloading groq-0.22.0-py3-none-any.whl (126 kB)\n",
            "\u001b[?25l   \u001b[90m━━━━━━━━━━━━━━━━━━━━━━━━━━━━━━━━━━━━━━━━\u001b[0m \u001b[32m0.0/126.7 kB\u001b[0m \u001b[31m?\u001b[0m eta \u001b[36m-:--:--\u001b[0m\r\u001b[2K   \u001b[90m━━━━━━━━━━━━━━━━━━━━━━━━━━━━━━━━━━━━━━━━\u001b[0m \u001b[32m126.7/126.7 kB\u001b[0m \u001b[31m5.5 MB/s\u001b[0m eta \u001b[36m0:00:00\u001b[0m\n",
            "\u001b[?25hInstalling collected packages: groq\n",
            "Successfully installed groq-0.22.0\n"
          ]
        }
      ],
      "source": [
        "!pip install groq"
      ]
    },
    {
      "cell_type": "code",
      "source": [
        "import os\n",
        "from google.colab import userdata\n",
        "GROQ_API_TOKEN = userdata.get('GROQ_API_KEY')\n",
        "\n",
        "os.environ[\"GROQ_API_KEY\"] = GROQ_API_TOKEN"
      ],
      "metadata": {
        "id": "4MBm6wtHmtbl"
      },
      "execution_count": null,
      "outputs": []
    },
    {
      "cell_type": "code",
      "source": [
        "from groq import Groq\n",
        "\n",
        "client = Groq(\n",
        "    api_key=os.environ.get(\"GROQ_API_KEY\"),\n",
        ")\n",
        "\n",
        "\n",
        "\n",
        "def get_sentiment(prompt, temperature=0.0, input_print=True):\n",
        "  chat_completion = client.chat.completions.create(\n",
        "      messages=[\n",
        "          {\n",
        "              \"role\": \"user\",\n",
        "              \"content\": prompt,\n",
        "          }\n",
        "      ],\n",
        "      model=\"llama3-70b-8192\",\n",
        "      temperature=temperature,\n",
        "  )\n",
        "\n",
        "  return (chat_completion.choices[0].message.content)"
      ],
      "metadata": {
        "id": "rxZfd_wMnGqH"
      },
      "execution_count": null,
      "outputs": []
    },
    {
      "cell_type": "code",
      "source": [
        "prompt =\"\"\"Recognize all aspect terms with their corresponding sentiment polarity in the given review delimited by triple quotes. The aspect terms are nouns or phrases appearing in the review that indicate specific aspects or features of the product/service. Determine the sentiment polarity from the options [\\\"positive\\\", \\\"negative\\\", \\\"neutral\\\"]. Answer in the format [\\\"aspect\\\", \\\"sentiment\\\"] without any explanation. If no aspect term exists, then only answer \\\"[]\\\".\"\n",
        "          \"\"\""
      ],
      "metadata": {
        "id": "huMw3JI-ML7B"
      },
      "execution_count": null,
      "outputs": []
    },
    {
      "cell_type": "code",
      "source": [
        "text=\"\"\"\n",
        "Artificial Intelligence (AI) can enhance the intelligence mission, but like other new tools, we must understand how to use this rapidly evolving technology in a way that aligns with our principles to prevent unethical outcomes. This is an ethics guide for United States Intelligence Community personnel on how to procure, design, build, use, protect, consume, and manage AI and related data. Answering these questions, in conjunction with your agency-specific procedures and practices, promotes ethical design of AI consistent with the Principles of AI Ethics for the Intelligence Community. This guide is not a checklist and some of the concepts discussed herein may not apply in all instances. Instead, this guide is a living document intended to provide stakeholders with a reasoned approach to judgment and to assist with the documentation of considerations associated with the AI lifecycle. In doing so, this guide will enable mission through an enhanced understanding of goals between AI practitioners and managers while promoting the ethical use of AI.\n",
        "\"\"\"\n",
        "prompt_text = prompt+\"'''\"+text+\"'''\"\n",
        "\n",
        "output = get_sentiment(prompt_text)\n",
        "print(output)\n"
      ],
      "metadata": {
        "colab": {
          "base_uri": "https://localhost:8080/"
        },
        "id": "B6evd0nVnPwc",
        "outputId": "819ce69a-cfd0-4189-eb36-d25c90fb74c2"
      },
      "execution_count": null,
      "outputs": [
        {
          "output_type": "stream",
          "name": "stdout",
          "text": [
            "[\"intelligence mission\", \"positive\"], [\"technology\", \"neutral\"], [\"principles\", \"positive\"], [\"ethics guide\", \"positive\"], [\"AI\", \"positive\"], [\"data\", \"neutral\"], [\"agency-specific procedures\", \"neutral\"], [\"Principles of AI Ethics\", \"positive\"], [\"Intelligence Community\", \"neutral\"], [\"guide\", \"positive\"], [\"AI lifecycle\", \"positive\"], [\"goals\", \"positive\"], [\"managers\", \"neutral\"]\n"
          ]
        }
      ]
    },
    {
      "cell_type": "code",
      "source": [
        "text = \"\"\"\n",
        "Woe betide the poor soul looking for a snappy unifying theme in this week's notable new reads. These books confront readers with the recent past and distant future, bring them to southeastern Africa and an alternative Japan, and bedeck their pages with subversive cartoons and lush, fantastical landscapes. There are no easy throughlines here, in other words.\n",
        "\"\"\"\n",
        "\n",
        "prompt_text = prompt+\"'''\"+text+\"'''\"\n",
        "\n",
        "output = get_sentiment(prompt_text)\n",
        "print(output)"
      ],
      "metadata": {
        "colab": {
          "base_uri": "https://localhost:8080/"
        },
        "id": "0QNnmwb1oNvV",
        "outputId": "3b5360f5-36f7-4ab4-e46b-02e56109276b"
      },
      "execution_count": null,
      "outputs": [
        {
          "output_type": "stream",
          "name": "stdout",
          "text": [
            "[]\n"
          ]
        }
      ]
    },
    {
      "cell_type": "code",
      "source": [
        "text = \"\"\"\n",
        "Don't buy this car as I already made a mistake buying that car of model XZ+O.\n",
        "Within 1 week back sensor did not work.\n",
        "Irritating noise produce during back gear applied. And when I inform to the company they work as laziness. No speed-up process for a new car as I bought. Many times I mail to their customer care, no response comes. The only e generated mail comes from their side. No hope whether my car is well. or not. I suggest never buy that car. I already waste my 13 lakh rupees. Don't buy\n",
        "\"\"\"\n",
        "\n",
        "prompt_text = prompt+\"'''\"+text+\"'''\"\n",
        "\n",
        "output = get_sentiment(prompt_text)\n",
        "print(output)"
      ],
      "metadata": {
        "colab": {
          "base_uri": "https://localhost:8080/"
        },
        "id": "-tC-78aEoVrp",
        "outputId": "3e380682-ca35-4e65-b785-15ac90f0eabe"
      },
      "execution_count": null,
      "outputs": [
        {
          "output_type": "stream",
          "name": "stdout",
          "text": [
            "[\"car\", \"negative\"], [\"back sensor\", \"negative\"], [\"noise\", \"negative\"], [\"company\", \"negative\"], [\"speed-up process\", \"negative\"], [\"customer care\", \"negative\"], [\"mail\", \"neutral\"]\n"
          ]
        }
      ]
    },
    {
      "cell_type": "code",
      "source": [
        "text =\"\"\"\n",
        "US envoy Steve Witkoff met Vladimir Putin in St Petersburg on Friday, as Donald Trump urged the Russian president to \"get moving\" on a ceasefire in Ukraine.\n",
        "\n",
        "The Kremlin said the meeting lasted for more than four hours and focused on \"aspects of a Ukrainian settlement\". The meeting, Witkoff's third with Putin this year, was described by special envoy Kirill Dmitriev as \"productive\".\n",
        "\n",
        "Trump, the US president, has expressed frustration over the progress of talks. On Friday, he wrote: \"Russia has to get moving. Too many people ere [sic] DYING, thousands a week, in a terrible and senseless war.\"\n",
        "\n",
        "It comes as Trump's Ukraine envoy Keith Kellogg denied suggesting the country could be partitioned.\n",
        "\"\"\"\n",
        "prompt_text = prompt+\"'''\"+text+\"'''\"\n",
        "\n",
        "output = get_sentiment(prompt_text)\n",
        "print(output)\n"
      ],
      "metadata": {
        "colab": {
          "base_uri": "https://localhost:8080/"
        },
        "id": "e5jkyfironY9",
        "outputId": "79534ead-c2cd-4245-96e0-94976dd971cd"
      },
      "execution_count": null,
      "outputs": [
        {
          "output_type": "stream",
          "name": "stdout",
          "text": [
            "[]\n"
          ]
        }
      ]
    },
    {
      "cell_type": "code",
      "source": [
        "text =\"\"\"\n",
        "After using Samsung Galaxy S23 Ultra for quite a bit as a daily driver and coming back to Samsung after a long time after using other smaller form factor phones like ONEPLUS 9, here's what I think about this phone.\n",
        "\n",
        "\n",
        "\n",
        "- This phone has the best camera ever installed into a smartphone, hands-down! No other phone made in human history can ever come close to 1% of what Samsung Galaxy S23 Ultra's cameras can do.\n",
        "\n",
        "- Performance is crazy! Not only it has Snapdragon 8Gen-2, but that too custom-made for Samsung Galaxy phones. You can play any games, run any apps and do whatever you'd want from a phone that is used at work, gaming, taking photos/videos and for personal use at the same time.\n",
        "\n",
        "- Rectangular form factor of this phone makes it so much comfortable and easy to hold. And it looks very premium too, which obviously is expected from a phone that costs this much.\n",
        "\n",
        "- OneUI has so many great features that they cannot be listed in one place. It brings a whole new meaning to \"smart\" in smartphones. Previously only Apple was making real smartphones that were actually smart and now with OneUI 5.1, Samsung has joined the league and probably done a better job than Apple at this point.\n",
        "\n",
        "- Good Lock modules + OneUI 5.1 has such a tremendous level of customization in terms of many aspects of the usability. It doesn't have all of it, to which I'll come in \"CONS\" section.\n",
        "\n",
        "- Charging time is good, reverse charging and wireless charging are such a sweet add-on that helps and makes the experience really good.\n",
        "\n",
        "- S-Pen does the wonders! Very useful specially for those who use their phone for professional work like eSigning and other precision work.\n",
        "\n",
        "- Build quality and software are really premium, you'll know you've sold a kidney when you hold this phone in your hands and turn up the max resolution on display.\n",
        "\n",
        "- S23 Ultra is slightly more flat on sides as compared to S22 Ultra which makes it a more usable phone.\n",
        "\n",
        "\n",
        "\n",
        "- Now, since this phone has a curved display which adds no usability but makes it little difficult to use for people with smaller hands or to reach to corners with one hand, it becomes little hard to get used to this kind of display even if you've used a curved display phone with smaller form factor before because S23 Ultra is HUGE!\n",
        "\n",
        "- Another issue with curved screen, since there's a decent curve in screen, finding a screen protector is really hard! Tempered glasses don't fit well, they get spaced by covers/cases, Samsung officially doesn't make tempered glass for S23 Ultra. Samsung sells a thin membrane sheet for ₹1,500/- which has a cutout for camera and collects dust. Having no screen protection means having your second kidney at risk too!\n",
        "\n",
        "- No charger in the box (ugh) and the cable that comes with it is really flimsy. Doesn't look like it came with a flagship phone. ONEPLUS makes 10x better cables so better buy one from them.\n",
        "\n",
        "\n",
        "\"\"\"\n",
        "prompt_text = prompt+\"'''\"+text+\"'''\"\n",
        "\n",
        "output = get_sentiment(prompt_text)\n",
        "print(output)"
      ],
      "metadata": {
        "colab": {
          "base_uri": "https://localhost:8080/"
        },
        "id": "r7NPs5cKoqSn",
        "outputId": "274d7b34-2670-4927-ed7a-d898346e2862"
      },
      "execution_count": null,
      "outputs": [
        {
          "output_type": "stream",
          "name": "stdout",
          "text": [
            "Here is the list of aspect terms with their corresponding sentiment polarity:\n",
            "\n",
            "[[\"camera\", \"positive\"], [\"performance\", \"positive\"], [\"form factor\", \"positive\"], [\"OneUI\", \"positive\"], [\"Good Lock modules\", \"positive\"], [\"customization\", \"positive\"], [\"charging time\", \"positive\"], [\"reverse charging\", \"positive\"], [\"wireless charging\", \"positive\"], [\"S-Pen\", \"positive\"], [\"build quality\", \"positive\"], [\"software\", \"positive\"], [\"display\", \"positive\"], [\"curved display\", \"negative\"], [\"screen protector\", \"negative\"], [\"charger\", \"negative\"], [\"cable\", \"negative\"]]\n"
          ]
        }
      ]
    }
  ]
}